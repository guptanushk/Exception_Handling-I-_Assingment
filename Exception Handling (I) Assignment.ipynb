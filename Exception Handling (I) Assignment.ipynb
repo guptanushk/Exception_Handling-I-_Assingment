{
 "cells": [
  {
   "cell_type": "markdown",
   "id": "bc769997-d43a-49ac-bbfb-0a70feb18aa2",
   "metadata": {},
   "source": [
    "Q1. What is an Exception in Python? Write the difference between Exceptios and Syntax errors."
   ]
  },
  {
   "cell_type": "markdown",
   "id": "88884d36-34fd-4b57-8601-4db935a06f4b",
   "metadata": {},
   "source": [
    "Answer : An exception is an event, which occurs during the execution of a program that disrupts the normal flow of the program's instructions.In general, when a python script encounters a situation that it cannot cope with, it raises an exception. \n",
    "\n",
    "The difference between exception and syntax error is :\n",
    "\n",
    "When the proper syntax of the language is not followed then a syntax error is thrown.\n",
    "\n",
    "When in the runtime an error occurs after passing the syntax test is called exception."
   ]
  },
  {
   "cell_type": "markdown",
   "id": "b95e64c3-2017-41a7-b6b8-a03002234800",
   "metadata": {},
   "source": [
    "Q2. What happens when an exception is not handled? Explain with an example."
   ]
  },
  {
   "cell_type": "markdown",
   "id": "a0c5b0ba-2b37-4406-adbc-f033e904dfc6",
   "metadata": {},
   "source": [
    "Answer : when exception is not handled in python it shows error(logical error) and execute finally statement if it is there.\n",
    "For example : "
   ]
  },
  {
   "cell_type": "code",
   "execution_count": 3,
   "id": "b98c4a3f-b52e-43a1-be03-cd5ecd29c5b9",
   "metadata": {},
   "outputs": [
    {
     "ename": "FileNotFoundError",
     "evalue": "[Errno 2] No such file or directory: 'test.txt'",
     "output_type": "error",
     "traceback": [
      "\u001b[0;31m---------------------------------------------------------------------------\u001b[0m",
      "\u001b[0;31mFileNotFoundError\u001b[0m                         Traceback (most recent call last)",
      "Cell \u001b[0;32mIn[3], line 1\u001b[0m\n\u001b[0;32m----> 1\u001b[0m f \u001b[38;5;241m=\u001b[39m \u001b[38;5;28;43mopen\u001b[39;49m\u001b[43m(\u001b[49m\u001b[38;5;124;43m\"\u001b[39;49m\u001b[38;5;124;43mtest.txt\u001b[39;49m\u001b[38;5;124;43m\"\u001b[39;49m\u001b[43m,\u001b[49m\u001b[38;5;124;43m'\u001b[39;49m\u001b[38;5;124;43mr\u001b[39;49m\u001b[38;5;124;43m'\u001b[39;49m\u001b[43m)\u001b[49m\n\u001b[1;32m      2\u001b[0m \u001b[38;5;28mprint\u001b[39m(\u001b[38;5;124m\"\u001b[39m\u001b[38;5;124mThis is my print\u001b[39m\u001b[38;5;124m\"\u001b[39m)\n",
      "File \u001b[0;32m/opt/conda/lib/python3.10/site-packages/IPython/core/interactiveshell.py:282\u001b[0m, in \u001b[0;36m_modified_open\u001b[0;34m(file, *args, **kwargs)\u001b[0m\n\u001b[1;32m    275\u001b[0m \u001b[38;5;28;01mif\u001b[39;00m file \u001b[38;5;129;01min\u001b[39;00m {\u001b[38;5;241m0\u001b[39m, \u001b[38;5;241m1\u001b[39m, \u001b[38;5;241m2\u001b[39m}:\n\u001b[1;32m    276\u001b[0m     \u001b[38;5;28;01mraise\u001b[39;00m \u001b[38;5;167;01mValueError\u001b[39;00m(\n\u001b[1;32m    277\u001b[0m         \u001b[38;5;124mf\u001b[39m\u001b[38;5;124m\"\u001b[39m\u001b[38;5;124mIPython won\u001b[39m\u001b[38;5;124m'\u001b[39m\u001b[38;5;124mt let you open fd=\u001b[39m\u001b[38;5;132;01m{\u001b[39;00mfile\u001b[38;5;132;01m}\u001b[39;00m\u001b[38;5;124m by default \u001b[39m\u001b[38;5;124m\"\u001b[39m\n\u001b[1;32m    278\u001b[0m         \u001b[38;5;124m\"\u001b[39m\u001b[38;5;124mas it is likely to crash IPython. If you know what you are doing, \u001b[39m\u001b[38;5;124m\"\u001b[39m\n\u001b[1;32m    279\u001b[0m         \u001b[38;5;124m\"\u001b[39m\u001b[38;5;124myou can use builtins\u001b[39m\u001b[38;5;124m'\u001b[39m\u001b[38;5;124m open.\u001b[39m\u001b[38;5;124m\"\u001b[39m\n\u001b[1;32m    280\u001b[0m     )\n\u001b[0;32m--> 282\u001b[0m \u001b[38;5;28;01mreturn\u001b[39;00m \u001b[43mio_open\u001b[49m\u001b[43m(\u001b[49m\u001b[43mfile\u001b[49m\u001b[43m,\u001b[49m\u001b[43m \u001b[49m\u001b[38;5;241;43m*\u001b[39;49m\u001b[43margs\u001b[49m\u001b[43m,\u001b[49m\u001b[43m \u001b[49m\u001b[38;5;241;43m*\u001b[39;49m\u001b[38;5;241;43m*\u001b[39;49m\u001b[43mkwargs\u001b[49m\u001b[43m)\u001b[49m\n",
      "\u001b[0;31mFileNotFoundError\u001b[0m: [Errno 2] No such file or directory: 'test.txt'"
     ]
    }
   ],
   "source": [
    "f = open(\"test.txt\",'r')\n",
    "print(\"This is my print\")"
   ]
  },
  {
   "cell_type": "markdown",
   "id": "efc76e9c-8cb1-4f7b-8484-23cc6fa8d140",
   "metadata": {},
   "source": [
    "Q3. Which Python statements are used to catch and handle exceptions? Explain with an example."
   ]
  },
  {
   "cell_type": "markdown",
   "id": "7050657b-cd83-4038-b740-6a1b27480c90",
   "metadata": {},
   "source": [
    "Answer : The try and except block in Python is used to catch and handle exceptions.Python executes code folowing the try statement as a \"normal\" part of the program.\n",
    "For Example : "
   ]
  },
  {
   "cell_type": "code",
   "execution_count": 4,
   "id": "056ae319-aa26-4de8-82a9-15874467bf94",
   "metadata": {},
   "outputs": [
    {
     "name": "stdout",
     "output_type": "stream",
     "text": [
      "There is some error with my code  [Errno 2] No such file or directory: 'test.txt'\n"
     ]
    }
   ],
   "source": [
    "try:\n",
    "    f = open('test.txt','r')\n",
    "except Exception as e :\n",
    "    print(\"There is some error with my code \", e)"
   ]
  },
  {
   "cell_type": "markdown",
   "id": "2ca36992-4afd-4fe7-9daa-ae2152d0136b",
   "metadata": {},
   "source": [
    "Q4. Explain with an example:\n",
    "    a. try and else\n",
    "    b. finally \n",
    "    c. raise"
   ]
  },
  {
   "cell_type": "markdown",
   "id": "c64f9f8b-aaa2-403c-be6d-0204ab3ec8ba",
   "metadata": {},
   "source": [
    "Answer : "
   ]
  },
  {
   "cell_type": "code",
   "execution_count": 2,
   "id": "f5fc1da2-fdd5-4abe-a8ea-1c950db925fd",
   "metadata": {},
   "outputs": [
    {
     "name": "stdout",
     "output_type": "stream",
     "text": [
      "this block will execute once try will execute itself without an exception\n",
      "It will always execute\n"
     ]
    }
   ],
   "source": [
    "try:\n",
    "    f = open('test.txt','w')\n",
    "    f.write('This is my message')\n",
    "except Exception as e :\n",
    "    print(\"There is some error with my code \", e)\n",
    "else:\n",
    "    f.close()\n",
    "    print('this block will execute once try will execute itself without an exception')\n",
    "finally:\n",
    "    print('It will always execute')"
   ]
  },
  {
   "cell_type": "markdown",
   "id": "a12df04c-6491-4781-9d74-228d097d60de",
   "metadata": {},
   "source": [
    "Q5. What are Custom Exception in Python? Why do we need Custom Exceptions? Explain with an example."
   ]
  },
  {
   "cell_type": "raw",
   "id": "1c762d28-bb72-495a-951a-afed81bc4267",
   "metadata": {},
   "source": [
    "Answer : Python has many built in exception with it, apart from these buit in list python has the capability to provide custom exception to the users. These custom exception are named as user defined exceptions. Here the user defined exceptions can be built defined by using a class declared for it.\n",
    "For Example : "
   ]
  },
  {
   "cell_type": "code",
   "execution_count": 2,
   "id": "44c55cb7-00ab-4af4-8af4-34e99eb500d5",
   "metadata": {},
   "outputs": [],
   "source": [
    "class validateage(Exception):\n",
    "    def __init__(self,msg):\n",
    "        self.msg = msg"
   ]
  },
  {
   "cell_type": "markdown",
   "id": "887ca7ef-9ac2-4a00-8f2a-39e4bbe42094",
   "metadata": {},
   "source": [
    "Q6. Create a custom exception class.Use this class to handle an exception."
   ]
  },
  {
   "cell_type": "markdown",
   "id": "e58b5b7f-c4bd-4b98-ac80-e373f4511bbd",
   "metadata": {},
   "source": [
    "Answer : "
   ]
  },
  {
   "cell_type": "code",
   "execution_count": 2,
   "id": "5741353c-1187-4eb8-88c2-6a35ec3811de",
   "metadata": {},
   "outputs": [],
   "source": [
    "class validateage(Exception):\n",
    "    def __init__(self,msg):\n",
    "        self.msg = msg"
   ]
  },
  {
   "cell_type": "code",
   "execution_count": 3,
   "id": "6625bc56-5e6e-40fd-a353-db1183bce42e",
   "metadata": {},
   "outputs": [],
   "source": [
    "def validate_age(age):\n",
    "    if age<0:\n",
    "        raise validateage(\"Age should not be lesser than zero\")\n",
    "    elif age>200:\n",
    "        raise validateage(\"Age is too high\")\n",
    "    else:\n",
    "        print(\"Age is valid\")"
   ]
  },
  {
   "cell_type": "code",
   "execution_count": 4,
   "id": "66bd767c-0929-47a1-a91f-8c6e148d4ab4",
   "metadata": {},
   "outputs": [
    {
     "name": "stdin",
     "output_type": "stream",
     "text": [
      "Enter the age :  -56\n"
     ]
    },
    {
     "name": "stdout",
     "output_type": "stream",
     "text": [
      "Age should not be lesser than zero\n"
     ]
    }
   ],
   "source": [
    "try:\n",
    "    age = int (input(\"Enter the age : \"))\n",
    "    validate_age(age)\n",
    "except Exception as e :\n",
    "    print(e)"
   ]
  },
  {
   "cell_type": "code",
   "execution_count": null,
   "id": "fab0aa7a-047d-4eb1-9220-37ca2adef79f",
   "metadata": {},
   "outputs": [],
   "source": []
  }
 ],
 "metadata": {
  "kernelspec": {
   "display_name": "Python 3 (ipykernel)",
   "language": "python",
   "name": "python3"
  },
  "language_info": {
   "codemirror_mode": {
    "name": "ipython",
    "version": 3
   },
   "file_extension": ".py",
   "mimetype": "text/x-python",
   "name": "python",
   "nbconvert_exporter": "python",
   "pygments_lexer": "ipython3",
   "version": "3.10.8"
  }
 },
 "nbformat": 4,
 "nbformat_minor": 5
}
